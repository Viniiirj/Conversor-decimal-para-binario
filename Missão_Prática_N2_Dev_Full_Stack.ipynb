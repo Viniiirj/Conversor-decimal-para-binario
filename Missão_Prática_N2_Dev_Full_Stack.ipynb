{
  "nbformat": 4,
  "nbformat_minor": 0,
  "metadata": {
    "colab": {
      "name": "Missão Prática N2 - Dev. Full Stack",
      "provenance": [],
      "authorship_tag": "ABX9TyOkD7oqIfhQOe8xN10YXUr0",
      "include_colab_link": true
    },
    "kernelspec": {
      "name": "python3",
      "display_name": "Python 3"
    },
    "language_info": {
      "name": "python"
    }
  },
  "cells": [
    {
      "cell_type": "markdown",
      "metadata": {
        "id": "view-in-github",
        "colab_type": "text"
      },
      "source": [
        "<a href=\"https://colab.research.google.com/github/Viniiirj/Conversor-decimal-para-binario/blob/main/Miss%C3%A3o_Pr%C3%A1tica_N2_Dev_Full_Stack.ipynb\" target=\"_parent\"><img src=\"https://colab.research.google.com/assets/colab-badge.svg\" alt=\"Open In Colab\"/></a>"
      ]
    },
    {
      "cell_type": "markdown",
      "source": [
        "O número da base decimal foi convertido para seu\n",
        "respectivo correspondente na base binária, utilizando funcionalidades nativas do Python."
      ],
      "metadata": {
        "id": "qz5O7JEQPgJe"
      }
    },
    {
      "cell_type": "code",
      "source": [
        "numero_base_decimal = 23\n",
        "numero_base_binaria = \"{0:b}\".format(numero_base_decimal)\n",
        "print(f'Número na base decimal: {numero_base_decimal}')\n",
        "print(f'Número na base decimal: {numero_base_binaria}')"
      ],
      "metadata": {
        "colab": {
          "base_uri": "https://localhost:8080/"
        },
        "id": "Jmv9i1J2OgEJ",
        "outputId": "6479a79f-0f27-4b92-c2c3-2accb6dca2eb"
      },
      "execution_count": 1,
      "outputs": [
        {
          "output_type": "stream",
          "name": "stdout",
          "text": [
            "Número na base decimal: 23\n",
            "Número na base decimal: 10111\n"
          ]
        }
      ]
    },
    {
      "cell_type": "markdown",
      "source": [
        "O número da base decimal foi convertido para seu\n",
        "respectivo correspondente na base binária, sem utilizar funcionalidades nativas do Python."
      ],
      "metadata": {
        "id": "bB2U1CNJPfE2"
      }
    },
    {
      "cell_type": "code",
      "source": [
        "class Pilha():\n",
        "    def __init__(self):\n",
        "        self.binario = []\n",
        "    def vazia(self):\n",
        "        return self.binario == []\n",
        "    def topo(self):\n",
        "        return self.binario[len(self.binario)-1]\n",
        "    def tamanho(self):\n",
        "        return len(self.binario)\n",
        "    def empilha(self,e):\n",
        "        return self.binario.append(e)\n",
        "    def desempilha(self):\n",
        "        return self.binario.pop()\n",
        "\n",
        "def decimal_binario(numero):\n",
        "    s = Pilha()\n",
        "\n",
        "    while numero > 0:\n",
        "        resto = numero % 2\n",
        "        s.empilha(resto)\n",
        "        numero = numero// 2\n",
        "    binario = ' '\n",
        "    while not s.vazia():\n",
        "        binario = binario + str(s.desempilha())\n",
        "\n",
        "    return binario\n",
        "\n",
        "if(__name__== \"__main__\"):\n",
        "    n = int(input(\"Entre com um número inteiro: \"))\n",
        "    print(decimal_binario(n))\n"
      ],
      "metadata": {
        "id": "xqDC0HnrOhIY"
      },
      "execution_count": null,
      "outputs": []
    }
  ]
}